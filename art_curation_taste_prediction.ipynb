{
 "cells": [
  {
   "cell_type": "markdown",
   "metadata": {},
   "source": [
    "# Art Curation and Taste Prediction\n",
    "\n",
    "This winter, I took fast.ai's [Practical Deep Learning](http://course.fast.ai/) class, where we learned how to create deep learning models.  We used the library [fastai](https://github.com/fastai/), which sits on top of PyTorch.  I came into the class thinking about taste in art and whether I could model it with neural nets.\n",
    "\n",
    "I have the Google Arts & Culture [extension](https://chrome.google.com/webstore/detail/google-arts-culture/akimgimeeoiognljlfchpbkpfbmeapkh?hl=en) that shows me an artwork from their collection everytime I open a new tab.  The artwork changes daily.  More than a few times I've thought, \"huh, I really like this!\" only to click through and realize I've favorited the piece before.  Last year my best friend brought up Rauschenberg's [*White Painting*](https://www.sfmoma.org/artwork/98.308.A-C), and I responded that I really liked it.  She then reminded me of the long, spirited, non-rancorous argument we had about the painting 7 years ago after a visit to SFMOMA.\n",
    "\n",
    "Therefore, I think there is something consistent about my taste.  However, it's not something I can put a finger on myself.  I tend to like conceptual art, Arte Povera, and textile art, but I like a lot of stuff not in those categories.  There's a mix of style, subject, and medium.  Can a deep learning model figure my taste out?  This is my motivating question."
   ]
  },
  {
   "cell_type": "markdown",
   "metadata": {
    "collapsed": true
   },
   "source": [
    "## Data Collection\n",
    "\n",
    "Since Google Arts & Culture inspired my project, I obviously wanted to obtain their images.  However, that wasn't possible.  I also tried downloading MOMA's images, as I heard news that they're [opensourcing their collection](https://medium.com/digital-moma/thousands-of-exhausted-things-or-why-we-dedicated-moma-s-collection-data-to-the-public-domain-7e0a7165e99), but alas that does not contain images.  \n",
    "\n",
    "Thankfully, it occured to me that I've been following the Twitter account [@womensart1](twitter.com/womensart1) for a while now and it's a perfect source of images. It's easy scraping images off Twitter using the [twitter-image-downloader](https://github.com/morinokami/twitter-image-downloader) library, and I got 2100 images off @womensart1.\n",
    "\n",
    "I was worried that wasn't enough data, so I also found the Twitter account [@artpicschannel](twitter.com/artpicschannel) and downloaded 3100 images.  That account has less fine art than @womensart1; sometimes it posts, in spurts, celebrity gifs or jokes.  \n",
    "\n",
    "Since the motivation of this project is to see if my taste is consistent enough a neural net can predict it, I labeled 1000 images from @womensart1 whether or not I liked them.  In total I liked 290 images."
   ]
  },
  {
   "cell_type": "markdown",
   "metadata": {},
   "source": [
    "## Curator Identification\n",
    "\n",
    "As noted above, the two Twitter accounts I downloaded images from post differeent things.  A lot of @artpicschannel's images are mid-21st-century Impressionism, while @womensart1 has a lot more contemporary art and different mediums.  The curators of the accounts have different tastes.\n",
    "\n",
    "I figured that one interesting step in this project would be to predict which Twitter account each image comes from. This doesn't require me to label 1000 images, and is also a larger dataset. "
   ]
  },
  {
   "cell_type": "markdown",
   "metadata": {},
   "source": [
    "First, I use ResNet-34, the architecture most used in the fast.ai class, to build a classifier."
   ]
  },
  {
   "cell_type": "code",
   "execution_count": 1,
   "metadata": {},
   "outputs": [],
   "source": [
    "%reload_ext autoreload\n",
    "%autoreload 2\n",
    "%matplotlib inline\n",
    "\n",
    "from fastai.imports import *\n",
    "from fastai.transforms import *\n",
    "from fastai.conv_learner import *\n",
    "from fastai.model import *\n",
    "from fastai.dataset import *\n",
    "from fastai.sgdr import *\n",
    "from fastai.plots import *"
   ]
  },
  {
   "cell_type": "code",
   "execution_count": 2,
   "metadata": {},
   "outputs": [],
   "source": [
    "PATH = 'data/art_twitters/'\n",
    "# Rule of thumb in the class is to choose an image size close to ImageNet\n",
    "sz = 299 "
   ]
  },
  {
   "cell_type": "code",
   "execution_count": 3,
   "metadata": {},
   "outputs": [],
   "source": [
    "arch = resnet34\n",
    "data = ImageClassifierData.from_paths(PATH, tfms=tfms_from_model(arch, sz))"
   ]
  },
  {
   "cell_type": "code",
   "execution_count": 4,
   "metadata": {},
   "outputs": [
    {
     "data": {
      "application/vnd.jupyter.widget-view+json": {
       "model_id": "d5885019b0dc4046a986c750977bbbdd",
       "version_major": 2,
       "version_minor": 0
      },
      "text/html": [
       "<p>Failed to display Jupyter Widget of type <code>HBox</code>.</p>\n",
       "<p>\n",
       "  If you're reading this message in the Jupyter Notebook or JupyterLab Notebook, it may mean\n",
       "  that the widgets JavaScript is still loading. If this message persists, it\n",
       "  likely means that the widgets JavaScript library is either not installed or\n",
       "  not enabled. See the <a href=\"https://ipywidgets.readthedocs.io/en/stable/user_install.html\">Jupyter\n",
       "  Widgets Documentation</a> for setup instructions.\n",
       "</p>\n",
       "<p>\n",
       "  If you're reading this message in another frontend (for example, a static\n",
       "  rendering on GitHub or <a href=\"https://nbviewer.jupyter.org/\">NBViewer</a>),\n",
       "  it may mean that your frontend doesn't currently support widgets.\n",
       "</p>\n"
      ],
      "text/plain": [
       "HBox(children=(IntProgress(value=0, description='Epoch', max=5), HTML(value='')))"
      ]
     },
     "metadata": {},
     "output_type": "display_data"
    },
    {
     "name": "stdout",
     "output_type": "stream",
     "text": [
      "[ 0.       0.60827  0.4916   0.77083]                      \n",
      "[ 1.       0.52771  0.47326  0.77583]                      \n",
      "[ 2.       0.4744   0.45695  0.79833]                      \n",
      "[ 3.       0.45637  0.45207  0.79458]                      \n",
      "[ 4.       0.43282  0.44694  0.80833]                      \n",
      "\n"
     ]
    }
   ],
   "source": [
    "learn = ConvLearner.pretrained(arch, data, precompute=True)\n",
    "learn.fit(0.01, 5)"
   ]
  },
  {
   "cell_type": "markdown",
   "metadata": {},
   "source": [
    "The most salient paper I've found that touches upon art taste is \"A Neural Algorithm of Artistic Style\" (*Gatys et al*).  In that paper, they use VGG19.  So I want to compare the two."
   ]
  },
  {
   "cell_type": "code",
   "execution_count": 5,
   "metadata": {},
   "outputs": [
    {
     "data": {
      "application/vnd.jupyter.widget-view+json": {
       "model_id": "0c96255d5fc443b5b608bfc69ca62180",
       "version_major": 2,
       "version_minor": 0
      },
      "text/html": [
       "<p>Failed to display Jupyter Widget of type <code>HBox</code>.</p>\n",
       "<p>\n",
       "  If you're reading this message in the Jupyter Notebook or JupyterLab Notebook, it may mean\n",
       "  that the widgets JavaScript is still loading. If this message persists, it\n",
       "  likely means that the widgets JavaScript library is either not installed or\n",
       "  not enabled. See the <a href=\"https://ipywidgets.readthedocs.io/en/stable/user_install.html\">Jupyter\n",
       "  Widgets Documentation</a> for setup instructions.\n",
       "</p>\n",
       "<p>\n",
       "  If you're reading this message in another frontend (for example, a static\n",
       "  rendering on GitHub or <a href=\"https://nbviewer.jupyter.org/\">NBViewer</a>),\n",
       "  it may mean that your frontend doesn't currently support widgets.\n",
       "</p>\n"
      ],
      "text/plain": [
       "HBox(children=(IntProgress(value=0, description='Epoch', max=5), HTML(value='')))"
      ]
     },
     "metadata": {},
     "output_type": "display_data"
    },
    {
     "name": "stdout",
     "output_type": "stream",
     "text": [
      "[ 0.       0.62173  0.50656  0.75458]                      \n",
      "[ 1.       0.5481   0.45383  0.77667]                      \n",
      "[ 2.       0.50436  0.44133  0.79167]                      \n",
      "[ 3.       0.47915  0.43293  0.80354]                      \n",
      "[ 4.       0.44205  0.41579  0.80708]                      \n",
      "\n"
     ]
    }
   ],
   "source": [
    "arch_vgg = vgg19\n",
    "data_vgg = ImageClassifierData.from_paths(PATH, tfms=tfms_from_model(arch_vgg, sz))\n",
    "learn_vgg = ConvLearner.pretrained(arch_vgg, data_vgg, precompute=True)\n",
    "learn_vgg.fit(0.01,5)"
   ]
  },
  {
   "cell_type": "markdown",
   "metadata": {
    "collapsed": true
   },
   "source": [
    "Out-of-the-box, both have similar performance.  They both may be beginning to overfit -- in the last epoch the training error is less than the validation error.  \n",
    "\n",
    "Next, I'll try to find a better learning rate using the fastai function lr_find().  It's based off [Cyclical Learning Rates for Training Neural Networks](https://arxiv.org/pdf/1506.01186.pdf) from Leslie N. Smith."
   ]
  },
  {
   "cell_type": "code",
   "execution_count": 6,
   "metadata": {},
   "outputs": [
    {
     "data": {
      "application/vnd.jupyter.widget-view+json": {
       "model_id": "bd560a0669564cfeb55d1103e49d54f2",
       "version_major": 2,
       "version_minor": 0
      },
      "text/html": [
       "<p>Failed to display Jupyter Widget of type <code>HBox</code>.</p>\n",
       "<p>\n",
       "  If you're reading this message in the Jupyter Notebook or JupyterLab Notebook, it may mean\n",
       "  that the widgets JavaScript is still loading. If this message persists, it\n",
       "  likely means that the widgets JavaScript library is either not installed or\n",
       "  not enabled. See the <a href=\"https://ipywidgets.readthedocs.io/en/stable/user_install.html\">Jupyter\n",
       "  Widgets Documentation</a> for setup instructions.\n",
       "</p>\n",
       "<p>\n",
       "  If you're reading this message in another frontend (for example, a static\n",
       "  rendering on GitHub or <a href=\"https://nbviewer.jupyter.org/\">NBViewer</a>),\n",
       "  it may mean that your frontend doesn't currently support widgets.\n",
       "</p>\n"
      ],
      "text/plain": [
       "HBox(children=(IntProgress(value=0, description='Epoch', max=1), HTML(value='')))"
      ]
     },
     "metadata": {},
     "output_type": "display_data"
    },
    {
     "name": "stdout",
     "output_type": "stream",
     "text": [
      " 69%|██████▉   | 40/58 [00:01<00:00, 24.24it/s, loss=2.97] \n",
      "                                                          \r"
     ]
    },
    {
     "data": {
      "image/png": "[encoded data removed]",
      "text/plain": [
       "<matplotlib.figure.Figure at 0x7f0980943630>"
      ]
     },
     "metadata": {},
     "output_type": "display_data"
    }
   ],
   "source": [
    "learn.lr_find()\n",
    "learn.sched.plot()"
   ]
  },
  {
   "cell_type": "markdown",
   "metadata": {},
   "source": [
    "The graph above tells me that loss jumps up around learning rate 0.1, but before that the loss tends to be the same.  I'll stick to my starting learning rate of 0.01."
   ]
  },
  {
   "cell_type": "code",
   "execution_count": 7,
   "metadata": {},
   "outputs": [
    {
     "data": {
      "application/vnd.jupyter.widget-view+json": {
       "model_id": "e385808032bf4c5f8c6362adbd4f383f",
       "version_major": 2,
       "version_minor": 0
      },
      "text/html": [
       "<p>Failed to display Jupyter Widget of type <code>HBox</code>.</p>\n",
       "<p>\n",
       "  If you're reading this message in the Jupyter Notebook or JupyterLab Notebook, it may mean\n",
       "  that the widgets JavaScript is still loading. If this message persists, it\n",
       "  likely means that the widgets JavaScript library is either not installed or\n",
       "  not enabled. See the <a href=\"https://ipywidgets.readthedocs.io/en/stable/user_install.html\">Jupyter\n",
       "  Widgets Documentation</a> for setup instructions.\n",
       "</p>\n",
       "<p>\n",
       "  If you're reading this message in another frontend (for example, a static\n",
       "  rendering on GitHub or <a href=\"https://nbviewer.jupyter.org/\">NBViewer</a>),\n",
       "  it may mean that your frontend doesn't currently support widgets.\n",
       "</p>\n"
      ],
      "text/plain": [
       "HBox(children=(IntProgress(value=0, description='Epoch', max=1), HTML(value='')))"
      ]
     },
     "metadata": {},
     "output_type": "display_data"
    },
    {
     "name": "stdout",
     "output_type": "stream",
     "text": [
      " 59%|█████▊    | 34/58 [00:01<00:01, 20.82it/s, loss=4.34] \n",
      "                                                          \r"
     ]
    },
    {
     "data": {
      "image/png": "[encoded data removed]",
      "text/plain": [
       "<matplotlib.figure.Figure at 0x7f097c171588>"
      ]
     },
     "metadata": {},
     "output_type": "display_data"
    }
   ],
   "source": [
    "learn_vgg.lr_find()\n",
    "learn_vgg.sched.plot()"
   ]
  },
  {
   "cell_type": "markdown",
   "metadata": {
    "collapsed": true
   },
   "source": [
    "The same plot for the VGG19 CNN indicates that 0.001 would be a better learning rate.\n",
    "\n",
    "Next, I will unfreeze all the layers of my CNNs and retrain them.  They were both trained on ImageNet, and my artworks are not very similar.  I use the rule of thumb that each previous layer is trained "
   ]
  },
  {
   "cell_type": "code",
   "execution_count": 8,
   "metadata": {},
   "outputs": [],
   "source": [
    "learn.unfreeze()\n",
    "learn_vgg.unfreeze()"
   ]
  },
  {
   "cell_type": "code",
   "execution_count": null,
   "metadata": {},
   "outputs": [
    {
     "data": {
      "application/vnd.jupyter.widget-view+json": {
       "model_id": "582986a72f7e4ebfb6350ad2240cae26",
       "version_major": 2,
       "version_minor": 0
      },
      "text/html": [
       "<p>Failed to display Jupyter Widget of type <code>HBox</code>.</p>\n",
       "<p>\n",
       "  If you're reading this message in the Jupyter Notebook or JupyterLab Notebook, it may mean\n",
       "  that the widgets JavaScript is still loading. If this message persists, it\n",
       "  likely means that the widgets JavaScript library is either not installed or\n",
       "  not enabled. See the <a href=\"https://ipywidgets.readthedocs.io/en/stable/user_install.html\">Jupyter\n",
       "  Widgets Documentation</a> for setup instructions.\n",
       "</p>\n",
       "<p>\n",
       "  If you're reading this message in another frontend (for example, a static\n",
       "  rendering on GitHub or <a href=\"https://nbviewer.jupyter.org/\">NBViewer</a>),\n",
       "  it may mean that your frontend doesn't currently support widgets.\n",
       "</p>\n"
      ],
      "text/plain": [
       "HBox(children=(IntProgress(value=0, description='Epoch', max=3), HTML(value='')))"
      ]
     },
     "metadata": {},
     "output_type": "display_data"
    },
    {
     "name": "stdout",
     "output_type": "stream",
     "text": [
      "[ 0.       0.31202  0.41501  0.83146]                      \n",
      "[ 1.       0.31922  0.42568  0.83396]                      \n",
      "[ 2.       0.30085  0.42854  0.83917]                      \n",
      "\n"
     ]
    }
   ],
   "source": [
    "learn.fit([1e-4, 1e-3, 1e-2], 3)"
   ]
  },
  {
   "cell_type": "markdown",
   "metadata": {},
   "source": [
    "The Practical Deep Learning class also recommended a rule of thumb to cosine anneal the learning rate, with cycle length 1 and cycle multiplicity 2."
   ]
  },
  {
   "cell_type": "code",
   "execution_count": null,
   "metadata": {},
   "outputs": [],
   "source": [
    "learn.fit([1e-4, 1e-3, 1e-2], 3, cycle_len=1, cycle_mult=2)"
   ]
  },
  {
   "cell_type": "code",
   "execution_count": null,
   "metadata": {},
   "outputs": [],
   "source": [
    "learn_vgg.fit([1e-5, 1e-4, 1e-3], 3)"
   ]
  },
  {
   "cell_type": "code",
   "execution_count": null,
   "metadata": {},
   "outputs": [
    {
     "data": {
      "application/vnd.jupyter.widget-view+json": {
       "model_id": "271c17f25942462da26459e85facdec1",
       "version_major": 2,
       "version_minor": 0
      },
      "text/html": [
       "<p>Failed to display Jupyter Widget of type <code>HBox</code>.</p>\n",
       "<p>\n",
       "  If you're reading this message in the Jupyter Notebook or JupyterLab Notebook, it may mean\n",
       "  that the widgets JavaScript is still loading. If this message persists, it\n",
       "  likely means that the widgets JavaScript library is either not installed or\n",
       "  not enabled. See the <a href=\"https://ipywidgets.readthedocs.io/en/stable/user_install.html\">Jupyter\n",
       "  Widgets Documentation</a> for setup instructions.\n",
       "</p>\n",
       "<p>\n",
       "  If you're reading this message in another frontend (for example, a static\n",
       "  rendering on GitHub or <a href=\"https://nbviewer.jupyter.org/\">NBViewer</a>),\n",
       "  it may mean that your frontend doesn't currently support widgets.\n",
       "</p>\n"
      ],
      "text/plain": [
       "HBox(children=(IntProgress(value=0, description='Epoch', max=7), HTML(value='')))"
      ]
     },
     "metadata": {},
     "output_type": "display_data"
    },
    {
     "name": "stdout",
     "output_type": "stream",
     "text": [
      "[ 0.       0.38578  0.40218  0.82   ]                      \n",
      " 71%|███████   | 41/58 [01:47<00:44,  2.63s/it, loss=0.38] "
     ]
    }
   ],
   "source": [
    "learn_vgg.fit([1e-5, 1e-4, 1e-3], 3, cycle_len=1, cycle_mult=2)"
   ]
  },
  {
   "cell_type": "markdown",
   "metadata": {},
   "source": [
    "Okay, how do I contextualize the success of these CNNs?  I think the best way to benchmark it in this project is to see if it outperforms humans.  Therefore, I look at random images from @artpicschannel and @womensart1 and guess which account the artwork came from.\n",
    "\n",
    "I've looked at 1000 images from @womensart1 to judge whether or not I like them (see \"Data Collection), so I must remove them from this pool.  So out of 3000 @artpicschannel and 1000 @womensart1 images, I label about 500 randomly."
   ]
  },
  {
   "cell_type": "code",
   "execution_count": null,
   "metadata": {},
   "outputs": [],
   "source": [
    "import pandas as pd\n",
    "from sklearn.metrics import confusion_matrix\n",
    "\n",
    "human_classification = pd.read_csv('whichchannel_labels.csv', header=None)\n",
    "print(len(human_classification), sum(human_classification[1]), sum(human_classification[2]))\n",
    "# Number of labeled images, Number of true @womensart1 images, Number of guessed @womensart1 images"
   ]
  },
  {
   "cell_type": "code",
   "execution_count": null,
   "metadata": {},
   "outputs": [],
   "source": [
    "cm = confusion_matrix(human_classification[1], human_classification[2])\n",
    "plot_confusion_matrix(cm, ['@artpicschannel', '@womensart1'])"
   ]
  },
  {
   "cell_type": "markdown",
   "metadata": {},
   "source": [
    "My success rate is 85.6%, meaning that the CNNs perform about as well as I do!  I find this surprising and very impressive."
   ]
  },
  {
   "cell_type": "markdown",
   "metadata": {},
   "source": [
    "## Personal Taste in Art\n",
    "\n",
    "Now to the part of this project that originally motivated me.  I have labeled 1000 images from @womensart1 and want to know if a neural net can predict whether or not I like them.\n"
   ]
  },
  {
   "cell_type": "code",
   "execution_count": null,
   "metadata": {},
   "outputs": [],
   "source": [
    "# Get indices of rows to hold back as validation set\n",
    "fnames,y,classes = csv_source('womensart', 'womensart_labels.csv')\n",
    "val_idxs = get_cv_idxs(len(fnames)-1)"
   ]
  },
  {
   "cell_type": "code",
   "execution_count": null,
   "metadata": {},
   "outputs": [],
   "source": [
    "data_taste = ImageClassifierData.from_csv(PATH, 'womensart', 'womensart_labels.csv',\n",
    "                                          val_idxs=val_idxs,tfms=tfms_from_model(arch, sz))"
   ]
  },
  {
   "cell_type": "code",
   "execution_count": null,
   "metadata": {},
   "outputs": [],
   "source": [
    "learn_taste = ConvLearner.pretrained(arch, data, precompute=True)\n",
    "learn_taste.fit(0.01, 5)"
   ]
  },
  {
   "cell_type": "code",
   "execution_count": null,
   "metadata": {},
   "outputs": [],
   "source": [
    "# Try both ResNet34 and VGG19, as above.\n",
    "data_taste_vgg = ImageClassifierData.from_csv(PATH, 'womensart', 'womensart_labels.csv',\n",
    "                                          val_idxs=val_idxs,tfms=tfms_from_model(arch_vgg, sz))\n",
    "learn_taste_vgg = ConvLearner.pretrained(arch_vgg, data_vgg, precompute=True)\n",
    "learn_taste_vgg.fit(0.01, 5)"
   ]
  },
  {
   "cell_type": "code",
   "execution_count": null,
   "metadata": {},
   "outputs": [],
   "source": [
    "# Try to find an a better learning rate.\n",
    "learn_taste.lr_find()\n",
    "learn_taste.sched.plot()\n",
    "learn_taste_vgg.lr_find()\n",
    "learn_taste_vgg.sched.plot()"
   ]
  },
  {
   "cell_type": "code",
   "execution_count": null,
   "metadata": {},
   "outputs": [],
   "source": [
    "# Unfreeze \n",
    "learn_taste.unfreeze()\n",
    "learn_taste_vgg.unfreeze()\n",
    "lr = np.array([1e-4,1e-3,1e-2])\n",
    "learn_taste.fit(lr, 3, cycle_len=1, cycle_mult=2)"
   ]
  },
  {
   "cell_type": "code",
   "execution_count": null,
   "metadata": {},
   "outputs": [],
   "source": [
    "learn_taste_vgg.fit(lr, 3, cycle_len=1, cycle_mult=2)"
   ]
  },
  {
   "cell_type": "markdown",
   "metadata": {},
   "source": [
    "# Next Steps\n",
    "\n",
    "I'm very curious about interpretability.  These CNNs perform "
   ]
  }
 ],
 "metadata": {
  "kernelspec": {
   "display_name": "Python 3",
   "language": "python",
   "name": "python3"
  },
  "language_info": {
   "codemirror_mode": {
    "name": "ipython",
    "version": 3
   },
   "file_extension": ".py",
   "mimetype": "text/x-python",
   "name": "python",
   "nbconvert_exporter": "python",
   "pygments_lexer": "ipython3",
   "version": "3.6.4"
  }
 },
 "nbformat": 4,
 "nbformat_minor": 2
}
