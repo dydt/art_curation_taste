{
 "cells": [
  {
   "cell_type": "markdown",
   "metadata": {},
   "source": [
    "# Art Curation and Taste Prediction\n",
    "\n",
    "This winter, I took fast.ai's [Practical Deep Learning](http://course.fast.ai/) class, where we learned how to create deep learning models.  We used the library [fastai](https://github.com/fastai/), which sits on top of PyTorch.  I came into the class thinking about taste in art and whether I could model it with neural nets.\n",
    "\n",
    "I have the Google Arts & Culture [extension](https://chrome.google.com/webstore/detail/google-arts-culture/akimgimeeoiognljlfchpbkpfbmeapkh?hl=en) that shows me an artwork from their collection everytime I open a new tab.  The artwork changes daily.  More than a few times I've thought, \"huh, I really like this!\" only to click through and realize I've favorited the piece before.  Last year my best friend brought up Rauschenberg's [*White Painting*](https://www.sfmoma.org/artwork/98.308.A-C), and I responded that I really liked it.  She then reminded me of the long, spirited, non-rancorous argument we had about the painting 7 years ago after a visit to SFMOMA.\n",
    "\n",
    "Therefore, I think there is something consistent about my taste.  However, it's not something I can put a finger on myself.  I tend to like conceptual art, Arte Povera, and textile art, but I like a lot of stuff not in those categories.  There's a mix of style, subject, and medium.  Can a deep learning model figure my taste out?  This is my motivating question."
   ]
  },
  {
   "cell_type": "markdown",
   "metadata": {
    "collapsed": true
   },
   "source": [
    "## Data Collection\n",
    "\n",
    "Since Google Arts & Culture inspired my project, I obviously wanted to obtain their images.  However, that wasn't possible.  I also tried downloading MOMA's images, as I heard news that they're [opensourcing their collection](https://medium.com/digital-moma/thousands-of-exhausted-things-or-why-we-dedicated-moma-s-collection-data-to-the-public-domain-7e0a7165e99), but alas that does not contain images.  \n",
    "\n",
    "Thankfully, it occured to me that I've been following the Twitter account [@womensart1](twitter.com/womensart1) for a while now and it's a perfect source of images. It's easy scraping images off Twitter using the [twitter-image-downloader](https://github.com/morinokami/twitter-image-downloader) library, and I got 2100 images off @womensart1.\n",
    "\n",
    "I was worried that wasn't enough data, so I also found the Twitter account [@artpicschannel](twitter.com/artpicschannel) and downloaded 3100 images.  That account has less fine art than @womensart1; sometimes it posts, in spurts, celebrity gifs or jokes.  \n",
    "\n",
    "Since the motivation of this project is to see if my taste is consistent enough a neural net can predict it, I labeled 1000 images from @womensart1 whether or not I liked them.  In total I liked 290 images."
   ]
  },
  {
   "cell_type": "markdown",
   "metadata": {},
   "source": [
    "## Curator Identification\n",
    "\n",
    "As noted above, the two Twitter accounts I downloaded images from post different things.  A lot of @artpicschannel's images are mid-21st-century Impressionism, while @womensart1 has a lot more contemporary art and different mediums.  The curators of the accounts have different tastes.\n",
    "\n",
    "I figured that one interesting step in this project would be to predict which Twitter account each image comes from. This doesn't require me to label 1000 images, and is also a larger dataset. "
   ]
  },
  {
   "cell_type": "markdown",
   "metadata": {},
   "source": [
    "First, I use ResNet-34, the architecture most used in the fast.ai class, to build a classifier."
   ]
  },
  {
   "cell_type": "code",
   "execution_count": 2,
   "metadata": {},
   "outputs": [],
   "source": [
    "%reload_ext autoreload\n",
    "%autoreload 2\n",
    "%matplotlib inline\n",
    "\n",
    "from fastai.imports import *\n",
    "from fastai.transforms import *\n",
    "from fastai.conv_learner import *\n",
    "from fastai.model import *\n",
    "from fastai.dataset import *\n",
    "from fastai.sgdr import *\n",
    "from fastai.plots import *"
   ]
  },
  {
   "cell_type": "code",
   "execution_count": 3,
   "metadata": {},
   "outputs": [],
   "source": [
    "PATH = 'data/art_twitters/'\n",
    "# Rule of thumb in the class is to choose an image size close to ImageNet\n",
    "sz = 299 "
   ]
  },
  {
   "cell_type": "code",
   "execution_count": 4,
   "metadata": {},
   "outputs": [],
   "source": [
    "arch = resnet34\n",
    "data = ImageClassifierData.from_paths(PATH, tfms=tfms_from_model(arch, sz))"
   ]
  },
  {
   "cell_type": "code",
   "execution_count": 29,
   "metadata": {},
   "outputs": [
    {
     "name": "stdout",
     "output_type": "stream",
     "text": [
      "100%|██████████| 58/58 [00:43<00:00,  1.34it/s]\n",
      "100%|██████████| 15/15 [00:13<00:00,  1.10it/s]\n"
     ]
    },
    {
     "data": {
      "application/vnd.jupyter.widget-view+json": {
       "model_id": "f38761c9cafe454c97ce7cc10d30b999",
       "version_major": 2,
       "version_minor": 0
      },
      "text/html": [
       "<p>Failed to display Jupyter Widget of type <code>HBox</code>.</p>\n",
       "<p>\n",
       "  If you're reading this message in the Jupyter Notebook or JupyterLab Notebook, it may mean\n",
       "  that the widgets JavaScript is still loading. If this message persists, it\n",
       "  likely means that the widgets JavaScript library is either not installed or\n",
       "  not enabled. See the <a href=\"https://ipywidgets.readthedocs.io/en/stable/user_install.html\">Jupyter\n",
       "  Widgets Documentation</a> for setup instructions.\n",
       "</p>\n",
       "<p>\n",
       "  If you're reading this message in another frontend (for example, a static\n",
       "  rendering on GitHub or <a href=\"https://nbviewer.jupyter.org/\">NBViewer</a>),\n",
       "  it may mean that your frontend doesn't currently support widgets.\n",
       "</p>\n"
      ],
      "text/plain": [
       "HBox(children=(IntProgress(value=0, description='Epoch', max=5), HTML(value='')))"
      ]
     },
     "metadata": {},
     "output_type": "display_data"
    },
    {
     "name": "stdout",
     "output_type": "stream",
     "text": [
      "[0.      0.63804 0.49568 0.76854]                          \n",
      "[1.      0.53725 0.48822 0.78083]                          \n",
      "[2.      0.48607 0.45896 0.80854]                          \n",
      "[3.      0.44682 0.4671  0.80875]                          \n",
      "[4.      0.42714 0.44387 0.79688]                          \n",
      "\n"
     ]
    }
   ],
   "source": [
    "learn = ConvLearner.pretrained(arch, data, precompute=True)\n",
    "learn.fit(0.01, 5)"
   ]
  },
  {
   "cell_type": "markdown",
   "metadata": {},
   "source": [
    "The most salient paper I've found that touches upon art taste is \"A Neural Algorithm of Artistic Style\" (*Gatys et al*).  In that paper, they use VGG19.  So I want to compare the two."
   ]
  },
  {
   "cell_type": "code",
   "execution_count": 30,
   "metadata": {},
   "outputs": [],
   "source": [
    "arch_vgg = vgg19\n",
    "data_vgg = ImageClassifierData.from_paths(PATH, tfms=tfms_from_model(arch_vgg, sz))"
   ]
  },
  {
   "cell_type": "code",
   "execution_count": 31,
   "metadata": {},
   "outputs": [
    {
     "name": "stdout",
     "output_type": "stream",
     "text": [
      "100%|██████████| 58/58 [02:07<00:00,  2.21s/it]\n",
      "100%|██████████| 15/15 [00:35<00:00,  2.39s/it]\n"
     ]
    },
    {
     "data": {
      "application/vnd.jupyter.widget-view+json": {
       "model_id": "acffea5d08d84d9ba52afc42247cdee4",
       "version_major": 2,
       "version_minor": 0
      },
      "text/html": [
       "<p>Failed to display Jupyter Widget of type <code>HBox</code>.</p>\n",
       "<p>\n",
       "  If you're reading this message in the Jupyter Notebook or JupyterLab Notebook, it may mean\n",
       "  that the widgets JavaScript is still loading. If this message persists, it\n",
       "  likely means that the widgets JavaScript library is either not installed or\n",
       "  not enabled. See the <a href=\"https://ipywidgets.readthedocs.io/en/stable/user_install.html\">Jupyter\n",
       "  Widgets Documentation</a> for setup instructions.\n",
       "</p>\n",
       "<p>\n",
       "  If you're reading this message in another frontend (for example, a static\n",
       "  rendering on GitHub or <a href=\"https://nbviewer.jupyter.org/\">NBViewer</a>),\n",
       "  it may mean that your frontend doesn't currently support widgets.\n",
       "</p>\n"
      ],
      "text/plain": [
       "HBox(children=(IntProgress(value=0, description='Epoch', max=5), HTML(value='')))"
      ]
     },
     "metadata": {},
     "output_type": "display_data"
    },
    {
     "name": "stdout",
     "output_type": "stream",
     "text": [
      "[0.      0.62736 0.51246 0.75708]                          \n",
      "[1.      0.55315 0.47589 0.76958]                          \n",
      "[2.      0.50358 0.44897 0.79312]                          \n",
      "[3.      0.47907 0.44068 0.79312]                          \n",
      "[4.      0.44713 0.41214 0.79792]                          \n",
      "\n"
     ]
    }
   ],
   "source": [
    "learn_vgg = ConvLearner.pretrained(arch_vgg, data_vgg, precompute=True)\n",
    "learn_vgg.fit(0.01,5)"
   ]
  },
  {
   "cell_type": "markdown",
   "metadata": {
    "collapsed": true
   },
   "source": [
    "Out-of-the-box, both have similar performance.  They both may be beginning to overfit -- in the last epoch the training error is less than the validation error.  \n",
    "\n",
    "Next, I'll try to find a better learning rate using the fastai function lr_find().  It's based off [Cyclical Learning Rates for Training Neural Networks](https://arxiv.org/pdf/1506.01186.pdf) from Leslie N. Smith."
   ]
  },
  {
   "cell_type": "code",
   "execution_count": 34,
   "metadata": {},
   "outputs": [
    {
     "data": {
      "application/vnd.jupyter.widget-view+json": {
       "model_id": "2c08ce4ffcb944cdbf34d0f7c69ff104",
       "version_major": 2,
       "version_minor": 0
      },
      "text/html": [
       "<p>Failed to display Jupyter Widget of type <code>HBox</code>.</p>\n",
       "<p>\n",
       "  If you're reading this message in the Jupyter Notebook or JupyterLab Notebook, it may mean\n",
       "  that the widgets JavaScript is still loading. If this message persists, it\n",
       "  likely means that the widgets JavaScript library is either not installed or\n",
       "  not enabled. See the <a href=\"https://ipywidgets.readthedocs.io/en/stable/user_install.html\">Jupyter\n",
       "  Widgets Documentation</a> for setup instructions.\n",
       "</p>\n",
       "<p>\n",
       "  If you're reading this message in another frontend (for example, a static\n",
       "  rendering on GitHub or <a href=\"https://nbviewer.jupyter.org/\">NBViewer</a>),\n",
       "  it may mean that your frontend doesn't currently support widgets.\n",
       "</p>\n"
      ],
      "text/plain": [
       "HBox(children=(IntProgress(value=0, description='Epoch', max=1), HTML(value='')))"
      ]
     },
     "metadata": {},
     "output_type": "display_data"
    },
    {
     "name": "stdout",
     "output_type": "stream",
     "text": [
      " 88%|████████▊ | 51/58 [00:00<00:00, 62.86it/s, loss=2.7]  \n",
      "                                                         \r"
     ]
    },
    {
     "data": {
      "image/png": "[encoded data removed]",
      "text/plain": [
       "<matplotlib.figure.Figure at 0x7f3d07169fd0>"
      ]
     },
     "metadata": {},
     "output_type": "display_data"
    }
   ],
   "source": [
    "learn.lr_find()\n",
    "learn.sched.plot()"
   ]
  },
  {
   "cell_type": "markdown",
   "metadata": {},
   "source": [
    "The graph above tells me that loss jumps up around learning rate 0.1, but before that the loss tends to be the same.  I'll stick to my starting learning rate of 0.01."
   ]
  },
  {
   "cell_type": "code",
   "execution_count": 35,
   "metadata": {},
   "outputs": [
    {
     "data": {
      "application/vnd.jupyter.widget-view+json": {
       "model_id": "05876a4738264b1ab2242ead955eaf1c",
       "version_major": 2,
       "version_minor": 0
      },
      "text/html": [
       "<p>Failed to display Jupyter Widget of type <code>HBox</code>.</p>\n",
       "<p>\n",
       "  If you're reading this message in the Jupyter Notebook or JupyterLab Notebook, it may mean\n",
       "  that the widgets JavaScript is still loading. If this message persists, it\n",
       "  likely means that the widgets JavaScript library is either not installed or\n",
       "  not enabled. See the <a href=\"https://ipywidgets.readthedocs.io/en/stable/user_install.html\">Jupyter\n",
       "  Widgets Documentation</a> for setup instructions.\n",
       "</p>\n",
       "<p>\n",
       "  If you're reading this message in another frontend (for example, a static\n",
       "  rendering on GitHub or <a href=\"https://nbviewer.jupyter.org/\">NBViewer</a>),\n",
       "  it may mean that your frontend doesn't currently support widgets.\n",
       "</p>\n"
      ],
      "text/plain": [
       "HBox(children=(IntProgress(value=0, description='Epoch', max=1), HTML(value='')))"
      ]
     },
     "metadata": {},
     "output_type": "display_data"
    },
    {
     "name": "stdout",
     "output_type": "stream",
     "text": [
      " 45%|████▍     | 26/58 [00:00<00:00, 32.11it/s, loss=1.96] \n",
      "                                                          \r"
     ]
    },
    {
     "data": {
      "image/png": "[encoded data removed]",
      "text/plain": [
       "<matplotlib.figure.Figure at 0x7f3d088f54e0>"
      ]
     },
     "metadata": {},
     "output_type": "display_data"
    }
   ],
   "source": [
    "learn_vgg.lr_find()\n",
    "learn_vgg.sched.plot()"
   ]
  },
  {
   "cell_type": "markdown",
   "metadata": {
    "collapsed": true
   },
   "source": [
    "The same plot for the VGG19 CNN indicates that 0.001 would be a better learning rate.\n",
    "\n",
    "Next, I will unfreeze all the layers of my CNNs and retrain them.  They were both trained on ImageNet, and my artworks are not very similar.  I use the rule of thumb that each previous layer is trained "
   ]
  },
  {
   "cell_type": "code",
   "execution_count": null,
   "metadata": {},
   "outputs": [],
   "source": [
    "learn.unfreeze()\n",
    "learn_vgg.unfreeze()"
   ]
  },
  {
   "cell_type": "code",
   "execution_count": null,
   "metadata": {},
   "outputs": [],
   "source": [
    "learn.fit([1e-4, 1e-3, 1e-2], 3)"
   ]
  },
  {
   "cell_type": "markdown",
   "metadata": {},
   "source": [
    "The Practical Deep Learning class also recommended a rule of thumb to cosine anneal the learning rate, with cycle length 1 and cycle multiplicity 2."
   ]
  },
  {
   "cell_type": "code",
   "execution_count": null,
   "metadata": {},
   "outputs": [],
   "source": [
    "learn.fit([1e-4, 1e-3, 1e-2], 3, cycle_len=1, cycle_mult=2)"
   ]
  },
  {
   "cell_type": "code",
   "execution_count": null,
   "metadata": {},
   "outputs": [],
   "source": [
    "learn_vgg.fit([1e-5, 1e-4, 1e-3], 3)"
   ]
  },
  {
   "cell_type": "code",
   "execution_count": null,
   "metadata": {},
   "outputs": [],
   "source": [
    "learn_vgg.fit([1e-5, 1e-4, 1e-3], 3, cycle_len=1, cycle_mult=2)"
   ]
  },
  {
   "cell_type": "markdown",
   "metadata": {},
   "source": [
    "Okay, how do I contextualize the success of these CNNs?  I think the best way to benchmark it in this project is to see if it outperforms humans.  Therefore, I look at random images from @artpicschannel and @womensart1 and guess which account the artwork came from.\n",
    "\n",
    "I've looked at 1000 images from @womensart1 to judge whether or not I like them (see \"Data Collection), so I must remove them from this pool.  So out of 3000 @artpicschannel and 1000 @womensart1 images, I label about 500 randomly."
   ]
  },
  {
   "cell_type": "code",
   "execution_count": null,
   "metadata": {},
   "outputs": [],
   "source": [
    "import pandas as pd\n",
    "from sklearn.metrics import confusion_matrix\n",
    "\n",
    "human_classification = pd.read_csv('whichchannel_labels.csv', header=None)\n",
    "print(len(human_classification), sum(human_classification[1]), sum(human_classification[2]))\n",
    "# Number of labeled images, Number of true @womensart1 images, Number of guessed @womensart1 images"
   ]
  },
  {
   "cell_type": "code",
   "execution_count": null,
   "metadata": {},
   "outputs": [],
   "source": [
    "cm = confusion_matrix(human_classification[1], human_classification[2])\n",
    "plot_confusion_matrix(cm, ['@artpicschannel', '@womensart1'])"
   ]
  },
  {
   "cell_type": "markdown",
   "metadata": {},
   "source": [
    "My success rate is 85.6%, meaning that the CNNs perform about as well as I do!  I find this surprising and very impressive."
   ]
  },
  {
   "cell_type": "markdown",
   "metadata": {},
   "source": [
    "## Personal Taste in Art\n",
    "\n",
    "Now to the part of this project that originally motivated me: whether an neural net can predict what artwork I like, since I can't even identify it myself.  To that end, I labeled 1000 images from @womensart1."
   ]
  },
  {
   "cell_type": "code",
   "execution_count": 84,
   "metadata": {},
   "outputs": [],
   "source": [
    "# Get indices of rows to hold back as validation set\n",
    "fnames,y,classes = csv_source('womensart', 'womensart_labels.csv')\n",
    "val_idxs = get_cv_idxs(len(fnames)-1)"
   ]
  },
  {
   "cell_type": "code",
   "execution_count": 85,
   "metadata": {},
   "outputs": [],
   "source": [
    "data_taste = ImageClassifierData.from_csv(PATH, 'womensart', 'womensart_labels.csv',\n",
    "                                          val_idxs=val_idxs,tfms=tfms_from_model(arch, sz))"
   ]
  },
  {
   "cell_type": "code",
   "execution_count": 111,
   "metadata": {},
   "outputs": [
    {
     "data": {
      "application/vnd.jupyter.widget-view+json": {
       "model_id": "0fa1fbd6a19b4f8cbfeaa1801797e717",
       "version_major": 2,
       "version_minor": 0
      },
      "text/html": [
       "<p>Failed to display Jupyter Widget of type <code>HBox</code>.</p>\n",
       "<p>\n",
       "  If you're reading this message in the Jupyter Notebook or JupyterLab Notebook, it may mean\n",
       "  that the widgets JavaScript is still loading. If this message persists, it\n",
       "  likely means that the widgets JavaScript library is either not installed or\n",
       "  not enabled. See the <a href=\"https://ipywidgets.readthedocs.io/en/stable/user_install.html\">Jupyter\n",
       "  Widgets Documentation</a> for setup instructions.\n",
       "</p>\n",
       "<p>\n",
       "  If you're reading this message in another frontend (for example, a static\n",
       "  rendering on GitHub or <a href=\"https://nbviewer.jupyter.org/\">NBViewer</a>),\n",
       "  it may mean that your frontend doesn't currently support widgets.\n",
       "</p>\n"
      ],
      "text/plain": [
       "HBox(children=(IntProgress(value=0, description='Epoch', max=5), HTML(value='')))"
      ]
     },
     "metadata": {},
     "output_type": "display_data"
    },
    {
     "name": "stdout",
     "output_type": "stream",
     "text": [
      "[0.      1.23774 0.89784 0.59896]                        \n",
      "[1.      0.98254 0.71509 0.67969]                         \n",
      "[2.      0.82321 0.73383 0.66797]                         \n",
      "[3.      0.72432 0.75607 0.67188]                         \n",
      "[4.      0.65921 0.74686 0.67578]                         \n",
      "\n"
     ]
    }
   ],
   "source": [
    "learn_taste = ConvLearner.pretrained(arch, data_taste, precompute=True)\n",
    "learn_taste.fit(0.01, 5)"
   ]
  },
  {
   "cell_type": "code",
   "execution_count": 112,
   "metadata": {},
   "outputs": [
    {
     "data": {
      "application/vnd.jupyter.widget-view+json": {
       "model_id": "5ca4863f1b9f42eb862ad2077bce1935",
       "version_major": 2,
       "version_minor": 0
      },
      "text/html": [
       "<p>Failed to display Jupyter Widget of type <code>HBox</code>.</p>\n",
       "<p>\n",
       "  If you're reading this message in the Jupyter Notebook or JupyterLab Notebook, it may mean\n",
       "  that the widgets JavaScript is still loading. If this message persists, it\n",
       "  likely means that the widgets JavaScript library is either not installed or\n",
       "  not enabled. See the <a href=\"https://ipywidgets.readthedocs.io/en/stable/user_install.html\">Jupyter\n",
       "  Widgets Documentation</a> for setup instructions.\n",
       "</p>\n",
       "<p>\n",
       "  If you're reading this message in another frontend (for example, a static\n",
       "  rendering on GitHub or <a href=\"https://nbviewer.jupyter.org/\">NBViewer</a>),\n",
       "  it may mean that your frontend doesn't currently support widgets.\n",
       "</p>\n"
      ],
      "text/plain": [
       "HBox(children=(IntProgress(value=0, description='Epoch', max=5), HTML(value='')))"
      ]
     },
     "metadata": {},
     "output_type": "display_data"
    },
    {
     "name": "stdout",
     "output_type": "stream",
     "text": [
      "[0.      1.22868 0.87063 0.67057]                        \n",
      "[1.      0.96921 0.79374 0.67448]                         \n",
      "[2.      0.82154 0.78069 0.67057]                         \n",
      "[3.      0.73128 0.77534 0.67057]                         \n",
      "[4.      0.6586  0.76409 0.65755]                         \n",
      "\n"
     ]
    }
   ],
   "source": [
    "# Try both ResNet34 and VGG19, as above.\n",
    "data_taste_vgg = ImageClassifierData.from_csv(PATH, 'womensart', 'womensart_labels.csv',\n",
    "                                          val_idxs=val_idxs,tfms=tfms_from_model(arch_vgg, sz))\n",
    "learn_taste_vgg = ConvLearner.pretrained(arch_vgg, data_taste_vgg, precompute=True)\n",
    "learn_taste_vgg.fit(0.01, 5)"
   ]
  },
  {
   "cell_type": "code",
   "execution_count": 113,
   "metadata": {},
   "outputs": [
    {
     "data": {
      "application/vnd.jupyter.widget-view+json": {
       "model_id": "f6f68d4bf5644fc6b1c2e30ac271cebe",
       "version_major": 2,
       "version_minor": 0
      },
      "text/html": [
       "<p>Failed to display Jupyter Widget of type <code>HBox</code>.</p>\n",
       "<p>\n",
       "  If you're reading this message in the Jupyter Notebook or JupyterLab Notebook, it may mean\n",
       "  that the widgets JavaScript is still loading. If this message persists, it\n",
       "  likely means that the widgets JavaScript library is either not installed or\n",
       "  not enabled. See the <a href=\"https://ipywidgets.readthedocs.io/en/stable/user_install.html\">Jupyter\n",
       "  Widgets Documentation</a> for setup instructions.\n",
       "</p>\n",
       "<p>\n",
       "  If you're reading this message in another frontend (for example, a static\n",
       "  rendering on GitHub or <a href=\"https://nbviewer.jupyter.org/\">NBViewer</a>),\n",
       "  it may mean that your frontend doesn't currently support widgets.\n",
       "</p>\n"
      ],
      "text/plain": [
       "HBox(children=(IntProgress(value=0, description='Epoch', max=1), HTML(value='')))"
      ]
     },
     "metadata": {},
     "output_type": "display_data"
    },
    {
     "name": "stdout",
     "output_type": "stream",
     "text": [
      "[0.      0.44747 0.7351  0.69531]                         \n",
      "\n"
     ]
    },
    {
     "data": {
      "image/png": "[encoded data removed]",
      "text/plain": [
       "<matplotlib.figure.Figure at 0x7f3d088d08d0>"
      ]
     },
     "metadata": {},
     "output_type": "display_data"
    }
   ],
   "source": [
    "# Try to find an a better learning rate.\n",
    "# Learning rate finder for ResNet-34 CNN\n",
    "learn_taste.lr_find(start_lr=10e-14, end_lr=1)\n",
    "learn_taste.sched.plot(n_skip=0)"
   ]
  },
  {
   "cell_type": "code",
   "execution_count": 114,
   "metadata": {},
   "outputs": [
    {
     "data": {
      "application/vnd.jupyter.widget-view+json": {
       "model_id": "bb9787454b4b49c8b3d44c7386f1dd92",
       "version_major": 2,
       "version_minor": 0
      },
      "text/html": [
       "<p>Failed to display Jupyter Widget of type <code>HBox</code>.</p>\n",
       "<p>\n",
       "  If you're reading this message in the Jupyter Notebook or JupyterLab Notebook, it may mean\n",
       "  that the widgets JavaScript is still loading. If this message persists, it\n",
       "  likely means that the widgets JavaScript library is either not installed or\n",
       "  not enabled. See the <a href=\"https://ipywidgets.readthedocs.io/en/stable/user_install.html\">Jupyter\n",
       "  Widgets Documentation</a> for setup instructions.\n",
       "</p>\n",
       "<p>\n",
       "  If you're reading this message in another frontend (for example, a static\n",
       "  rendering on GitHub or <a href=\"https://nbviewer.jupyter.org/\">NBViewer</a>),\n",
       "  it may mean that your frontend doesn't currently support widgets.\n",
       "</p>\n"
      ],
      "text/plain": [
       "HBox(children=(IntProgress(value=0, description='Epoch', max=1), HTML(value='')))"
      ]
     },
     "metadata": {},
     "output_type": "display_data"
    },
    {
     "name": "stdout",
     "output_type": "stream",
     "text": [
      "[0.      0.46763 0.84606 0.64323]                         \n",
      "\n"
     ]
    },
    {
     "data": {
      "image/png": "[encoded data removed]",
      "text/plain": [
       "<matplotlib.figure.Figure at 0x7f3d07386c50>"
      ]
     },
     "metadata": {},
     "output_type": "display_data"
    }
   ],
   "source": [
    "# Learning rate finder for VGG19 CNN\n",
    "learn_taste_vgg.lr_find(start_lr=10e-14, end_lr=1)\n",
    "learn_taste_vgg.sched.plot(n_skip=0)"
   ]
  },
  {
   "cell_type": "markdown",
   "metadata": {},
   "source": [
    "Hmm, something that strikes me is that these learning rate graphs don't look like the ones in the previous section.  There's not a big range of learning rates that give approximately the same loss, and these are much less monotonic.  Given that the accuracies are lower, these LR graphs seem to also indicate that taste prediction is harder than curator prediction."
   ]
  },
  {
   "cell_type": "markdown",
   "metadata": {},
   "source": [
    "10e-7 and 10e-8 seem to be best, though that jumps around on each run."
   ]
  },
  {
   "cell_type": "code",
   "execution_count": 115,
   "metadata": {},
   "outputs": [],
   "source": [
    "# Unfreeze \n",
    "learn_taste.unfreeze()\n",
    "learn_taste_vgg.unfreeze()"
   ]
  },
  {
   "cell_type": "code",
   "execution_count": 116,
   "metadata": {},
   "outputs": [
    {
     "data": {
      "application/vnd.jupyter.widget-view+json": {
       "model_id": "cee54325cfd54233b660dabb4bc6d03e",
       "version_major": 2,
       "version_minor": 0
      },
      "text/html": [
       "<p>Failed to display Jupyter Widget of type <code>HBox</code>.</p>\n",
       "<p>\n",
       "  If you're reading this message in the Jupyter Notebook or JupyterLab Notebook, it may mean\n",
       "  that the widgets JavaScript is still loading. If this message persists, it\n",
       "  likely means that the widgets JavaScript library is either not installed or\n",
       "  not enabled. See the <a href=\"https://ipywidgets.readthedocs.io/en/stable/user_install.html\">Jupyter\n",
       "  Widgets Documentation</a> for setup instructions.\n",
       "</p>\n",
       "<p>\n",
       "  If you're reading this message in another frontend (for example, a static\n",
       "  rendering on GitHub or <a href=\"https://nbviewer.jupyter.org/\">NBViewer</a>),\n",
       "  it may mean that your frontend doesn't currently support widgets.\n",
       "</p>\n"
      ],
      "text/plain": [
       "HBox(children=(IntProgress(value=0, description='Epoch', max=7), HTML(value='')))"
      ]
     },
     "metadata": {},
     "output_type": "display_data"
    },
    {
     "name": "stdout",
     "output_type": "stream",
     "text": [
      "[0.      0.42524 0.74897 0.67969]                          \n",
      "[1.      0.44349 0.74549 0.67188]                          \n",
      "[2.      0.45097 0.74963 0.67578]                          \n",
      "[3.      0.4574  0.74982 0.67188]                          \n",
      "[4.      0.46493 0.7489  0.66797]                          \n",
      "[5.      0.46475 0.74606 0.67188]                          \n",
      "[6.      0.46247 0.74719 0.66797]                          \n",
      "\n"
     ]
    }
   ],
   "source": [
    "lr = np.array([10e-9,10e-8,10e-7])\n",
    "learn_taste.fit(lr, 3, cycle_len=1, cycle_mult=2)"
   ]
  },
  {
   "cell_type": "code",
   "execution_count": 117,
   "metadata": {},
   "outputs": [
    {
     "data": {
      "application/vnd.jupyter.widget-view+json": {
       "model_id": "d0abc17d15444a18a2652a14b9f4ea7a",
       "version_major": 2,
       "version_minor": 0
      },
      "text/html": [
       "<p>Failed to display Jupyter Widget of type <code>HBox</code>.</p>\n",
       "<p>\n",
       "  If you're reading this message in the Jupyter Notebook or JupyterLab Notebook, it may mean\n",
       "  that the widgets JavaScript is still loading. If this message persists, it\n",
       "  likely means that the widgets JavaScript library is either not installed or\n",
       "  not enabled. See the <a href=\"https://ipywidgets.readthedocs.io/en/stable/user_install.html\">Jupyter\n",
       "  Widgets Documentation</a> for setup instructions.\n",
       "</p>\n",
       "<p>\n",
       "  If you're reading this message in another frontend (for example, a static\n",
       "  rendering on GitHub or <a href=\"https://nbviewer.jupyter.org/\">NBViewer</a>),\n",
       "  it may mean that your frontend doesn't currently support widgets.\n",
       "</p>\n"
      ],
      "text/plain": [
       "HBox(children=(IntProgress(value=0, description='Epoch', max=7), HTML(value='')))"
      ]
     },
     "metadata": {},
     "output_type": "display_data"
    },
    {
     "name": "stdout",
     "output_type": "stream",
     "text": [
      "[0.      0.50985 0.76602 0.64974]                          \n",
      "[1.      0.48545 0.76458 0.64974]                          \n",
      "[2.      0.47822 0.76626 0.65365]                          \n",
      "[3.      0.48619 0.76636 0.64974]                          \n",
      "[4.      0.49021 0.76572 0.64193]                          \n",
      "[5.      0.48825 0.76792 0.64974]                          \n",
      "[6.      0.48298 0.76644 0.65755]                          \n",
      "\n"
     ]
    }
   ],
   "source": [
    "learn_taste_vgg.fit([10e-10,10e-9,10e-8], 3, cycle_len=1, cycle_mult=2)"
   ]
  },
  {
   "cell_type": "markdown",
   "metadata": {},
   "source": [
    "Unfreezing leads to strong overfitting here, as the validation loss doesn't change due to unfreezing.  Going off the unfrozen nets,  ResNet-34 and VGG can predict artwork I'd like with 67% and 65% accuracy."
   ]
  },
  {
   "cell_type": "markdown",
   "metadata": {},
   "source": [
    "67% accuracy is pretty impressive to me.  I don't have a human benchmark -- I don't know if I'll be able to pay someone to assiduously study my taste before labeling images -- but given that I only scored 85% on the previous task, I think 67% is still good.  I may need to label more images for the neural network."
   ]
  },
  {
   "cell_type": "markdown",
   "metadata": {},
   "source": [
    "# Next Steps\n",
    "\n",
    "I'm very curious about interpretability. What can I learn about my own taste from the neural nets I trained?  Just through labeling 1000 images, I learned that I liked black-and-white photography much more and textile art less than I thought did.  I bet I can learn a lot more by inspecting the CNNs.  [This paper on visualizing CNNs](https://cs.nyu.edu/~fergus/papers/zeilerECCV2014.pdf) is next on my reading list.\n",
    "\n",
    "I'd also like to reduce the overfitting on the unfrozen nets.  I know increasing drop-out is one strategy, but I'd like to learn others.\n",
    "\n"
   ]
  },
  {
   "cell_type": "code",
   "execution_count": null,
   "metadata": {},
   "outputs": [],
   "source": []
  }
 ],
 "metadata": {
  "kernelspec": {
   "display_name": "Python 3",
   "language": "python",
   "name": "python3"
  },
  "language_info": {
   "codemirror_mode": {
    "name": "ipython",
    "version": 3
   },
   "file_extension": ".py",
   "mimetype": "text/x-python",
   "name": "python",
   "nbconvert_exporter": "python",
   "pygments_lexer": "ipython3",
   "version": "3.6.4"
  }
 },
 "nbformat": 4,
 "nbformat_minor": 2
}
